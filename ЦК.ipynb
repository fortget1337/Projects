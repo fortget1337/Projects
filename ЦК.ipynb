{
  "nbformat": 4,
  "nbformat_minor": 0,
  "metadata": {
    "colab": {
      "private_outputs": true,
      "provenance": [],
      "collapsed_sections": [
        "PkfO_j5ZZhNs",
        "Uli0hliCZmtw",
        "WK0EqUfWZavT",
        "13nUhrDyZUnq",
        "zBct6QLj_RbW"
      ]
    },
    "kernelspec": {
      "name": "python3",
      "display_name": "Python 3"
    },
    "language_info": {
      "name": "python"
    }
  },
  "cells": [
    {
      "cell_type": "code",
      "source": [
        "import warnings\n",
        "warnings.filterwarnings(\"ignore\")"
      ],
      "metadata": {
        "id": "58UGfmGkCGdW"
      },
      "execution_count": null,
      "outputs": []
    },
    {
      "cell_type": "code",
      "source": [
        "from sklearn.datasets import load_iris\n",
        "from sklearn.model_selection import train_test_split\n",
        "from sklearn.preprocessing import StandardScaler\n",
        "from sklearn.naive_bayes import GaussianNB\n",
        "import numpy as np\n",
        "import matplotlib.pyplot as plt\n",
        "import pandas as pd\n",
        "\n",
        "\n",
        "iris = load_iris()\n",
        "X = iris.data\n",
        "y = iris.target"
      ],
      "metadata": {
        "id": "KI9ebjg7zyMZ"
      },
      "execution_count": null,
      "outputs": []
    },
    {
      "cell_type": "code",
      "source": [
        "X.shape, y.shape, len(set(y))"
      ],
      "metadata": {
        "id": "jJf8CmR4z4iU"
      },
      "execution_count": null,
      "outputs": []
    },
    {
      "cell_type": "code",
      "source": [
        "X = pd.DataFrame(X, columns=['feature_1', 'feature_2', 'feature_3', 'feature_4'])\n",
        "y = pd.DataFrame(y, columns=['target'])\n",
        "X.head()"
      ],
      "metadata": {
        "id": "zNQZtj_i4S5G"
      },
      "execution_count": null,
      "outputs": []
    },
    {
      "cell_type": "markdown",
      "source": [
        "# Подготовка и визуализация датасета"
      ],
      "metadata": {
        "id": "PkfO_j5ZZhNs"
      }
    },
    {
      "cell_type": "code",
      "source": [
        "X.duplicated().sum()"
      ],
      "metadata": {
        "id": "6ZnCENWo4MLr"
      },
      "execution_count": null,
      "outputs": []
    },
    {
      "cell_type": "code",
      "source": [
        "ind = X[X.duplicated()].index\n",
        "X.drop_duplicates(inplace=True)\n",
        "y.drop(ind, inplace=True)"
      ],
      "metadata": {
        "id": "mSwoeLHK4xhT"
      },
      "execution_count": null,
      "outputs": []
    },
    {
      "cell_type": "code",
      "source": [
        "X.isna().sum()"
      ],
      "metadata": {
        "id": "gCxWW2W24yBi"
      },
      "execution_count": null,
      "outputs": []
    },
    {
      "cell_type": "code",
      "source": [
        "fig, axs = plt.subplots(1, 4, figsize=(16, 5))\n",
        "for i in range(1, 5):\n",
        "    axs[i - 1].hist(X[f'feature_{i}'], bins=16)\n",
        "    axs[i - 1].set_title(f'feature - {i}')"
      ],
      "metadata": {
        "id": "nTm2950c0N6n"
      },
      "execution_count": null,
      "outputs": []
    },
    {
      "cell_type": "code",
      "source": [
        "fig, axs = plt.subplots(1, 4, figsize=(22, 6))\n",
        "for i in range(4):\n",
        "    axs[i].set_xlabel(f'feature_{i + 1}')\n",
        "    axs[i].set_ylabel('target')\n",
        "    axs[i].scatter(x=X[f'feature_{i + 1}'], y=y)"
      ],
      "metadata": {
        "id": "K-gFQte928X7"
      },
      "execution_count": null,
      "outputs": []
    },
    {
      "cell_type": "code",
      "source": [
        "fig, axs = plt.subplots(1, 4, figsize=(22, 6))\n",
        "for i in range(4):\n",
        "    axs[i].set_xlabel(f'feature_{i + 1}')\n",
        "    axs[i].boxplot(x=X[f'feature_{i + 1}'])"
      ],
      "metadata": {
        "id": "vadZy0Y07onU"
      },
      "execution_count": null,
      "outputs": []
    },
    {
      "cell_type": "code",
      "source": [
        "X.describe()"
      ],
      "metadata": {
        "id": "y0RaTgJ__Lbm"
      },
      "execution_count": null,
      "outputs": []
    },
    {
      "cell_type": "markdown",
      "source": [
        "# Тест на нормальное распределение и обучение модели"
      ],
      "metadata": {
        "id": "Uli0hliCZmtw"
      }
    },
    {
      "cell_type": "code",
      "source": [
        "from scipy.stats import shapiro\n",
        "\n",
        "\n",
        "for i in range(4):\n",
        "    pvalue = shapiro(X[f'feature_{i + 1}']).pvalue\n",
        "    print(f'feature_{i + 1}:', pvalue, 'norm distribution' if pvalue >= 0.05 else 'other distribution')"
      ],
      "metadata": {
        "id": "VMl3zotJ-Ixh"
      },
      "execution_count": null,
      "outputs": []
    },
    {
      "cell_type": "code",
      "source": [
        "X_train, X_test, y_train, y_test = train_test_split(X, y, test_size=0.2, random_state=42, stratify=y, shuffle=True)"
      ],
      "metadata": {
        "id": "nWsCvrlHz3x5"
      },
      "execution_count": null,
      "outputs": []
    },
    {
      "cell_type": "code",
      "source": [
        "gnb = GaussianNB()\n",
        "gnb.fit(X_train, y_train)"
      ],
      "metadata": {
        "id": "h_Sr0nPi_in_"
      },
      "execution_count": null,
      "outputs": []
    },
    {
      "cell_type": "markdown",
      "source": [
        "# Ковариация и визуализация"
      ],
      "metadata": {
        "id": "WK0EqUfWZavT"
      }
    },
    {
      "cell_type": "code",
      "execution_count": null,
      "metadata": {
        "id": "-PO1H4NMikn-"
      },
      "outputs": [],
      "source": [
        "cov_matrix_class1 = np.cov(X_train.loc[(y_train == 0).index, :].T)\n",
        "cov_matrix_class2 = np.cov(X_train.loc[(y_train == 1).index, :].T)\n",
        "cov_matrix_class3 = np.cov(X_train.loc[(y_train == 2).index, :].T)\n",
        "\n",
        "fig, axs = plt.subplots(4, 2, figsize=(10, 12))\n",
        "\n",
        "im1 = axs[0, 0].imshow(cov_matrix_class1, interpolation='nearest')\n",
        "axs[0, 0].set_title('Class 1 - Scalar')\n",
        "plt.colorbar(im1, ax=axs[0, 0])\n",
        "\n",
        "im2 = axs[0, 1].imshow(np.diag(np.diag(cov_matrix_class1)), interpolation='nearest')\n",
        "axs[0, 1].set_title('Class 1 - Diagonal')\n",
        "plt.colorbar(im2, ax=axs[0, 1])\n",
        "\n",
        "im3 = axs[1, 0].imshow(cov_matrix_class2, interpolation='nearest')\n",
        "axs[1, 0].set_title('Class 2 - Scalar')\n",
        "plt.colorbar(im3, ax=axs[1, 0])\n",
        "\n",
        "im4 = axs[1, 1].imshow(np.diag(np.diag(cov_matrix_class2)), interpolation='nearest')\n",
        "axs[1, 1].set_title('Class 2 - Diagonal')\n",
        "plt.colorbar(im4, ax=axs[1, 1])\n",
        "\n",
        "im5 = axs[2, 0].imshow(cov_matrix_class3, interpolation='nearest')\n",
        "axs[2, 0].set_title('Class 3 - Scalar')\n",
        "plt.colorbar(im5, ax=axs[2, 0])\n",
        "\n",
        "im6 = axs[2, 1].imshow(np.diag(np.diag(cov_matrix_class3)), interpolation='nearest')\n",
        "axs[2, 1].set_title('Class 3 - Diagonal')\n",
        "plt.colorbar(im6, ax=axs[2, 1])\n",
        "\n",
        "im7 = axs[3, 0].imshow(np.mean([cov_matrix_class1, cov_matrix_class2, cov_matrix_class3], axis=0), interpolation='nearest')\n",
        "axs[3, 0].set_title('Classes matrix equal - Scalar')\n",
        "plt.colorbar(im7, ax=axs[3, 0])\n",
        "\n",
        "im8 = axs[3, 1].imshow(np.diag(np.diag(X_train.iloc[:, :])), interpolation='nearest')\n",
        "axs[3, 1].set_title('Classes matrix equal  - Diagonal')\n",
        "plt.colorbar(im8, ax=axs[3, 1])\n",
        "\n",
        "fig.tight_layout()\n",
        "plt.show()"
      ]
    },
    {
      "cell_type": "code",
      "source": [
        "from mpl_toolkits.mplot3d import Axes3D\n",
        "import matplotlib.pyplot as plt\n",
        "import pandas as pd\n",
        "\n",
        "\n",
        "\n",
        "fig = plt.figure(figsize=(6, 6))\n",
        "ax = fig.add_subplot(111, projection='3d')\n",
        "ax.scatter(X_train.iloc[:, 0].values, X_train.iloc[:, 1].values, X_train.iloc[:, 2].values, c=y_train.values, vmin=0.0, vmax=2)\n",
        "\n",
        "ax.set_xlabel('feature_1')\n",
        "ax.set_ylabel('feature_2')\n",
        "ax.set_zlabel('feature_3')\n",
        "\n",
        "plt.show()"
      ],
      "metadata": {
        "id": "cjQh4u8dSYg1"
      },
      "execution_count": null,
      "outputs": []
    },
    {
      "cell_type": "code",
      "source": [
        "fig = plt.figure(figsize=(6, 6))\n",
        "ax = fig.add_subplot(111, projection='3d')\n",
        "ax.scatter(X_train.iloc[:, 1].values, X_train.iloc[:, 2].values, X_train.iloc[:, 3].values, c=y_train.values, vmin=0.0, vmax=2)\n",
        "\n",
        "ax.set_xlabel('feature_2')\n",
        "ax.set_ylabel('feature_3')\n",
        "ax.set_zlabel('feature_4')\n",
        "\n",
        "plt.show()"
      ],
      "metadata": {
        "id": "SszhWUPFVREZ"
      },
      "execution_count": null,
      "outputs": []
    },
    {
      "cell_type": "code",
      "source": [
        "fig = plt.figure(figsize=(6, 6))\n",
        "ax = fig.add_subplot(111, projection='3d')\n",
        "ax.scatter(X_train.iloc[:, 0].values, X_train.iloc[:, 1].values, X_train.iloc[:, 3].values, c=y_train.values, vmin=0.0, vmax=2)\n",
        "\n",
        "ax.set_xlabel('feature_1')\n",
        "ax.set_ylabel('feature_2')\n",
        "ax.set_zlabel('feature_4')\n",
        "\n",
        "plt.show()"
      ],
      "metadata": {
        "id": "O3L1aMMXVSKv"
      },
      "execution_count": null,
      "outputs": []
    },
    {
      "cell_type": "markdown",
      "source": [
        "# Метрики"
      ],
      "metadata": {
        "id": "13nUhrDyZUnq"
      }
    },
    {
      "cell_type": "code",
      "source": [
        "from sklearn.metrics import accuracy_score\n",
        "\n",
        "\n",
        "preds = gnb.predict(X_test)\n",
        "acc = accuracy_score(y_test, preds)\n",
        "acc"
      ],
      "metadata": {
        "id": "IXZympalVbb7"
      },
      "execution_count": null,
      "outputs": []
    },
    {
      "cell_type": "code",
      "source": [
        "from sklearn.preprocessing import LabelBinarizer\n",
        "\n",
        "label_binarizer = LabelBinarizer().fit(y_train)\n",
        "y_onehot_test = label_binarizer.transform(y_test)\n",
        "y_onehot_test.shape"
      ],
      "metadata": {
        "id": "HHBbdbCZYMpa"
      },
      "execution_count": null,
      "outputs": []
    },
    {
      "cell_type": "code",
      "source": [
        "from sklearn.metrics import RocCurveDisplay\n",
        "\n",
        "\n",
        "preds = gnb.predict_proba(X_test)\n",
        "RocCurveDisplay.from_predictions(\n",
        "    y_onehot_test.ravel(),\n",
        "    preds.ravel(),\n",
        "    name=\"micro-average OvR\",\n",
        "    color=\"darkorange\",\n",
        ")\n",
        "plt.axis(\"square\")\n",
        "plt.xlabel(\"False Positive Rate\")\n",
        "plt.ylabel(\"True Positive Rate\")\n",
        "plt.title(\"One-vs-Rest ROC curves:\\nVirginica vs (Setosa & Versicolor)\")\n",
        "plt.legend()\n",
        "plt.show()"
      ],
      "metadata": {
        "id": "TeoIBC-PWRnm"
      },
      "execution_count": null,
      "outputs": []
    },
    {
      "cell_type": "code",
      "source": [
        "from sklearn.metrics import roc_auc_score\n",
        "\n",
        "micro_roc_auc_ovr = roc_auc_score(\n",
        "    y_test,\n",
        "    preds,\n",
        "    multi_class=\"ovr\",\n",
        "    average=\"micro\",\n",
        ")\n",
        "\n",
        "print(f\"Micro-averaged One-vs-Rest ROC AUC score:\\n{micro_roc_auc_ovr:.2f}\")"
      ],
      "metadata": {
        "id": "bRpk6wqyXPfn"
      },
      "execution_count": null,
      "outputs": []
    },
    {
      "cell_type": "code",
      "source": [
        "from sklearn.model_selection import cross_validate\n",
        "\n",
        "\n",
        "clf = GaussianNB()\n",
        "cv_results = cross_validate(clf, X, y, cv=3, scoring='f1_macro')\n",
        "cv_results['test_score'].mean()"
      ],
      "metadata": {
        "id": "dIZMYHVO_XF1"
      },
      "execution_count": null,
      "outputs": []
    },
    {
      "cell_type": "code",
      "source": [
        "from sklearn.metrics import classification_report\n",
        "\n",
        "\n",
        "print(classification_report(y_test, preds, labels=[0, 1, 2]))"
      ],
      "metadata": {
        "id": "OSs_IFUZA1ps"
      },
      "execution_count": null,
      "outputs": []
    },
    {
      "cell_type": "markdown",
      "source": [
        "# Логистическая регрессия"
      ],
      "metadata": {
        "id": "zBct6QLj_RbW"
      }
    },
    {
      "cell_type": "code",
      "source": [
        "from sklearn.linear_model import LogisticRegression\n",
        "\n",
        "\n",
        "model = LogisticRegression()\n",
        "model.fit(X_train, y_train)"
      ],
      "metadata": {
        "id": "9qAwvLzOY0_u"
      },
      "execution_count": null,
      "outputs": []
    },
    {
      "cell_type": "code",
      "source": [
        "preds = model.predict_proba(X_test)"
      ],
      "metadata": {
        "id": "sGbzPSE2ZFVi"
      },
      "execution_count": null,
      "outputs": []
    },
    {
      "cell_type": "code",
      "source": [
        "micro_roc_auc_ovr = roc_auc_score(\n",
        "    y_test,\n",
        "    preds,\n",
        "    multi_class=\"ovr\",\n",
        "    average=\"micro\",\n",
        ")\n",
        "\n",
        "print(f\"Micro-averaged One-vs-Rest ROC AUC score:\\n{micro_roc_auc_ovr:.2f}\")"
      ],
      "metadata": {
        "id": "h_rMqudcY1N1"
      },
      "execution_count": null,
      "outputs": []
    },
    {
      "cell_type": "markdown",
      "source": [
        "# Отчет\n",
        "\n",
        "\n",
        "В ходе выполнения работы был использован датасет ирисов из стандартной библиотеки sklearn для многоклассовой классификации.\n",
        "\n",
        "\n",
        "Первым шагом были визуализированы графики признаков для понимания распределения данных, количестве выбросов. Также были удалены дубликаты из датасета и выполнена проверка на nan значения.\n",
        "\n",
        "\n",
        "Далее по тесту признаков на нормальное распределение только 2-й признак соответствует нормальному распределению(p_value > 0.05).\n",
        "\n",
        "\n",
        "Следующим шагом можно увидеть обучение байесовского классификатора и визуализация ковариационных матриц, исходя из различных предположений.\n",
        "\n",
        "\n",
        "Далее было оценены значения метрик для байесовского классификатора(acc = 0.93, micro_averaged_f1 = 0.99) и приведены соответсвующие графики, в том числе расширенный classification report. Также был рассмотрен случай кросс-валидации данных, который показывает примерно такой же результат, что и при hold-out разбиении (acc=0.94).\n",
        "\n",
        "\n",
        "И в заключении приведена модель логистической регресии, которая показала более высокие результаты метрики, в отличии от байесовского классификатора"
      ],
      "metadata": {
        "id": "DNz_8MTTZPM2"
      }
    }
  ]
}